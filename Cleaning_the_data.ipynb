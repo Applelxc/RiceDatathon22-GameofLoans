{
 "cells": [
  {
   "cell_type": "code",
   "execution_count": 8,
   "metadata": {},
   "outputs": [],
   "source": [
    "\"\"\"\n",
    "This is the final verison of cleaning the data\n",
    "\"\"\"\n",
    "import pyreadr\n",
    "import numpy as np\n",
    "import pandas as pd\n",
    "import matplotlib.pyplot as plt\n",
    "import datetime\n",
    "import matplotlib.dates as mdates\n",
    "from sklearn.preprocessing import OrdinalEncoder\n",
    "from sklearn.model_selection import train_test_split\n",
    "from sklearn.linear_model import LogisticRegression\n",
    "from sklearn.metrics import accuracy_score, precision_score, recall_score,f1_score\n",
    "from sklearn.metrics import confusion_matrix"
   ]
  },
  {
   "cell_type": "markdown",
   "metadata": {},
   "source": [
    "# **First, we clean the unwanted data**"
   ]
  },
  {
   "cell_type": "code",
   "execution_count": 16,
   "metadata": {},
   "outputs": [],
   "source": [
    "#drop the columns that logically has no relation with acceptance rate\n",
    "df = pd.read_csv('/Users/kiwibird/StudyFile/2022Spring/Datathon/track.csv')\n",
    "df.drop(columns =['state_code','county_code','msa','census_tract','denial_reason','lei',\n",
    "                  'applicant_age_above_62','sex','aus','conforming_loan_limit','purchaser_type'\n",
    "                 ,'discount_points','interest_rate','lender_credits','total_loan_costs','race',\n",
    "                  'construction_method','ethnicity','loan_type','lien_status','occupancy_type'], inplace = True)\n",
    "#drop the rows that has NA\n",
    "df.dropna(subset=['income','debt_to_income_ratio','combined_loan_to_value_ratio','property_value'],inplace=True)"
   ]
  },
  {
   "cell_type": "code",
   "execution_count": 17,
   "metadata": {},
   "outputs": [],
   "source": [
    "df.accepted = df.accepted.astype('bool')"
   ]
  },
  {
   "cell_type": "markdown",
   "metadata": {},
   "source": [
    "# Then we encode all non-numerical values"
   ]
  },
  {
   "cell_type": "code",
   "execution_count": 18,
   "metadata": {},
   "outputs": [
    {
     "data": {
      "text/plain": [
       "array(['45-54', '55-64', '65-74', '25-34', '35-44', '>74', '<25'],\n",
       "      dtype=object)"
      ]
     },
     "execution_count": 18,
     "metadata": {},
     "output_type": "execute_result"
    }
   ],
   "source": [
    "#Ordinal applicant_age\n",
    "df['applicant_age'].unique()\n"
   ]
  },
  {
   "cell_type": "code",
   "execution_count": 19,
   "metadata": {},
   "outputs": [],
   "source": [
    "age_sort = ['<25','25-34', '35-44','45-54', '55-64', '65-74', '>74']\n",
    "age_enc = OrdinalEncoder(categories=[age_sort])\n",
    "df['applicant_age'] = age_enc.fit_transform(df['applicant_age'].values.reshape(-1,1))"
   ]
  },
  {
   "cell_type": "code",
   "execution_count": 20,
   "metadata": {},
   "outputs": [
    {
     "data": {
      "text/plain": [
       "array(['>60%', '41%-<46%', '36%-<41%', '20%-<30%', '46%-<50%', '30%-<36%',\n",
       "       '<20%', '50%-60%'], dtype=object)"
      ]
     },
     "execution_count": 20,
     "metadata": {},
     "output_type": "execute_result"
    }
   ],
   "source": [
    "# Ordinal debt_to_income_ratio\n",
    "df['debt_to_income_ratio'].unique()\n"
   ]
  },
  {
   "cell_type": "code",
   "execution_count": 21,
   "metadata": {},
   "outputs": [],
   "source": [
    "debt_to_income_sort = ['<20%','20%-<30%', '30%-<36%','36%-<41%','41%-<46%', '46%-<50%',\n",
    "        '50%-60%','>60%']\n",
    "debt_to_income_enc = OrdinalEncoder(categories=[debt_to_income_sort])\n",
    "df['debt_to_income_ratio'] = debt_to_income_enc.fit_transform(df['debt_to_income_ratio'].values.reshape(-1,1))"
   ]
  },
  {
   "cell_type": "markdown",
   "metadata": {},
   "source": [
    "**See the correlation**"
   ]
  },
  {
   "cell_type": "code",
   "execution_count": 22,
   "metadata": {},
   "outputs": [
    {
     "name": "stdout",
     "output_type": "stream",
     "text": [
      "The correlation of  year  with accepted is:  0.0080960733424657\n",
      "The correlation of  applicant_age  with accepted is:  -0.04658008636365649\n",
      "The correlation of  income  with accepted is:  0.0019681608247615646\n",
      "The correlation of  debt_to_income_ratio  with accepted is:  -0.20327093104312555\n",
      "The correlation of  tract_one_to_four_family_homes  with accepted is:  0.011788633099217901\n",
      "The correlation of  tract_median_age_of_hu  with accepted is:  -0.01873419286493982\n",
      "The correlation of  tract_minority_pop_percent  with accepted is:  -0.07742771938369988\n",
      "The correlation of  tract_population  with accepted is:  -0.00015726529375702372\n",
      "The correlation of  tract_to_msa_income_percentage  with accepted is:  0.058183130609042594\n",
      "The correlation of  ffiec_msa_md_median_fam_income  with accepted is:  0.004361259040702438\n",
      "The correlation of  balloon_payment  with accepted is:  -0.01336691158162228\n",
      "The correlation of  business_or_commercial_purpose  with accepted is:  -0.021855196854123224\n",
      "The correlation of  combined_loan_to_value_ratio  with accepted is:  -0.0037658025927381797\n",
      "The correlation of  loan_amount  with accepted is:  0.03378035189120652\n",
      "The correlation of  property_value  with accepted is:  0.021888137013118928\n",
      "The correlation of  total_units  with accepted is:  -0.02633178186712166\n",
      "The correlation of  accepted  with accepted is:  1.0\n"
     ]
    }
   ],
   "source": [
    "columns = df.columns\n",
    "for i in columns:\n",
    "    cleaned_df = df.dropna(subset=[str(i)])\n",
    "    print(\"The correlation of \",i,\" with accepted is: \", df[str(i)].corr(df['accepted']))"
   ]
  },
  {
   "cell_type": "markdown",
   "metadata": {},
   "source": [
    "**Delete columns that has less relationship with accept**"
   ]
  },
  {
   "cell_type": "code",
   "execution_count": null,
   "metadata": {},
   "outputs": [],
   "source": [
    "df.drop(columns=['year','income','tract_population','ffiec_msa_md_median_fam_income','combined_loan_to_value_ratio'],inplace=True)"
   ]
  },
  {
   "cell_type": "code",
   "execution_count": 28,
   "metadata": {},
   "outputs": [],
   "source": [
    "#create train and test and validation value\n",
    "X = df.drop(labels = ['accepted'],axis=1)\n",
    "y = df['accepted']"
   ]
  },
  {
   "cell_type": "markdown",
   "metadata": {},
   "source": [
    "# Split test and train data"
   ]
  },
  {
   "cell_type": "code",
   "execution_count": 29,
   "metadata": {},
   "outputs": [],
   "source": [
    "# create testing dataset\n",
    "X_train_full, X_test, y_train_full, y_test = train_test_split(X, y, test_size=0.1, random_state=0)\n",
    "# create training and validation sets\n",
    "X_train, X_val, y_train, y_val = train_test_split(X_train_full, y_train_full, test_size=0.1, random_state=0)"
   ]
  },
  {
   "cell_type": "markdown",
   "metadata": {},
   "source": [
    "# Try to oversample the data"
   ]
  },
  {
   "cell_type": "code",
   "execution_count": 30,
   "metadata": {},
   "outputs": [],
   "source": [
    "from imblearn.over_sampling import SMOTE"
   ]
  },
  {
   "cell_type": "code",
   "execution_count": 31,
   "metadata": {},
   "outputs": [],
   "source": [
    "#Oversample using SMOTE\n",
    "sm = SMOTE(sampling_strategy='minority')\n",
    "X_resample, y_resample = sm.fit_resample(X_train, y_train)"
   ]
  },
  {
   "cell_type": "code",
   "execution_count": 32,
   "metadata": {},
   "outputs": [],
   "source": [
    "#Export the data after smote() as a .csv"
   ]
  },
  {
   "cell_type": "code",
   "execution_count": 33,
   "metadata": {},
   "outputs": [],
   "source": [
    "smote_df = X_resample\n",
    "smote_df['accepted'] = y_resample\n",
    "smote_df.to_csv(\"dataset.csv\")"
   ]
  },
  {
   "cell_type": "code",
   "execution_count": null,
   "metadata": {},
   "outputs": [],
   "source": []
  },
  {
   "cell_type": "code",
   "execution_count": null,
   "metadata": {},
   "outputs": [],
   "source": []
  },
  {
   "cell_type": "code",
   "execution_count": null,
   "metadata": {},
   "outputs": [],
   "source": []
  },
  {
   "cell_type": "code",
   "execution_count": null,
   "metadata": {},
   "outputs": [],
   "source": []
  }
 ],
 "metadata": {
  "kernelspec": {
   "display_name": "Python 3",
   "language": "python",
   "name": "python3"
  },
  "language_info": {
   "codemirror_mode": {
    "name": "ipython",
    "version": 3
   },
   "file_extension": ".py",
   "mimetype": "text/x-python",
   "name": "python",
   "nbconvert_exporter": "python",
   "pygments_lexer": "ipython3",
   "version": "3.8.5"
  }
 },
 "nbformat": 4,
 "nbformat_minor": 4
}
